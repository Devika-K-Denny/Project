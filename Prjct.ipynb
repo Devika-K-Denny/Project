{
 "cells": [
  {
   "cell_type": "code",
   "execution_count": 1,
   "id": "ca05547a",
   "metadata": {},
   "outputs": [],
   "source": [
    "import numpy as np\n",
    "import pandas as pd\n",
    "import matplotlib.pyplot as plt\n",
    "\n",
    "from sklearn.model_selection import train_test_split\n",
    "from sklearn.preprocessing import StandardScaler\n",
    "from sklearn.neighbors import KNeighborsClassifier\n",
    "from sklearn.metrics import accuracy_score\n",
    "from sklearn.metrics import confusion_matrix"
   ]
  },
  {
   "cell_type": "code",
   "execution_count": 2,
   "id": "012455c7",
   "metadata": {},
   "outputs": [
    {
     "name": "stdout",
     "output_type": "stream",
     "text": [
      "754\n",
      "    id                                instituionname  survey_year  playground  \\\n",
      "0  210            Sido Kanhu Murmu University, Dumka         2015           0   \n",
      "1  523                KING GEORGE MEDICAL UNIVERSITY         2015           1   \n",
      "2  569                   Burdwan University, Burdwan         2015           1   \n",
      "3  316  Marathwada Agricultural University, Parbhani         2015           1   \n",
      "4  160                Ch. Devi Lal University, Sirsa         2015           1   \n",
      "\n",
      "   auditorium  theatre  library  laboratory  conference_hall  health_center  \\\n",
      "0           0        0        1           1                0              1   \n",
      "1           1        1        1           1                1              1   \n",
      "2           1        0        1           1                1              1   \n",
      "3           1        0        1           1                1              1   \n",
      "4           1        1        1           1                1              1   \n",
      "\n",
      "   gymnasium_fitness_center  indoor_stadium  common_room  computer_center  \\\n",
      "0                         0               0            0                0   \n",
      "1                         1               0            1                1   \n",
      "2                         1               1            1                1   \n",
      "3                         1               1            1                1   \n",
      "4                         1               1            1                1   \n",
      "\n",
      "   cafeteria  Sum  \n",
      "0          0    3  \n",
      "1          1   11  \n",
      "2          0   10  \n",
      "3          1   11  \n",
      "4          1   12  \n"
     ]
    }
   ],
   "source": [
    "from sklearn.metrics import f1_score\n",
    "dataset=pd.read_csv(r'C:\\Users\\DEVIKA\\Desktop\\Project\\University.csv')\n",
    "print(len (dataset))\n",
    "print(dataset.head())"
   ]
  },
  {
   "cell_type": "code",
   "execution_count": 3,
   "id": "f999aa23",
   "metadata": {},
   "outputs": [
    {
     "name": "stdout",
     "output_type": "stream",
     "text": [
      "      id                                     instituionname  survey_year  \\\n",
      "749  203              Birsa Agricultural University, Ranchi         2015   \n",
      "750  291                          Vikram University, Ujjain         2015   \n",
      "751  795  INDIAN INSTITUTE OF INFORMATION TECHNOLOGY, GU...         2015   \n",
      "752  205                    Indian School of Mines, Dhanbad         2015   \n",
      "753  330     Tata Institute of Fundamental Research, Mumbai         2015   \n",
      "\n",
      "     playground  auditorium  theatre  library  laboratory  conference_hall  \\\n",
      "749           1           1        0        1           1                1   \n",
      "750           1           1        0        1           1                1   \n",
      "751           0           0        0        1           1                1   \n",
      "752           1           1        1        1           1                1   \n",
      "753           1           1        0        1           1                1   \n",
      "\n",
      "     health_center  gymnasium_fitness_center  indoor_stadium  common_room  \\\n",
      "749              1                         1               0            1   \n",
      "750              1                         1               1            1   \n",
      "751              0                         0               0            0   \n",
      "752              1                         1               1            1   \n",
      "753              1                         1               0            1   \n",
      "\n",
      "     computer_center  cafeteria  Sum  \n",
      "749                1          1   10  \n",
      "750                1          1   11  \n",
      "751                0          1    4  \n",
      "752                1          1   12  \n",
      "753                1          1   10  \n"
     ]
    }
   ],
   "source": [
    "print(dataset.tail())"
   ]
  },
  {
   "cell_type": "code",
   "execution_count": 4,
   "id": "b8237ae3",
   "metadata": {},
   "outputs": [
    {
     "name": "stdout",
     "output_type": "stream",
     "text": [
      "<class 'pandas.core.frame.DataFrame'>\n",
      "RangeIndex: 754 entries, 0 to 753\n",
      "Data columns (total 16 columns):\n",
      " #   Column                    Non-Null Count  Dtype \n",
      "---  ------                    --------------  ----- \n",
      " 0   id                        754 non-null    int64 \n",
      " 1   instituionname            754 non-null    object\n",
      " 2   survey_year               754 non-null    int64 \n",
      " 3   playground                754 non-null    int64 \n",
      " 4   auditorium                754 non-null    int64 \n",
      " 5   theatre                   754 non-null    int64 \n",
      " 6   library                   754 non-null    int64 \n",
      " 7   laboratory                754 non-null    int64 \n",
      " 8   conference_hall           754 non-null    int64 \n",
      " 9   health_center             754 non-null    int64 \n",
      " 10  gymnasium_fitness_center  754 non-null    int64 \n",
      " 11  indoor_stadium            754 non-null    int64 \n",
      " 12  common_room               754 non-null    int64 \n",
      " 13  computer_center           754 non-null    int64 \n",
      " 14  cafeteria                 754 non-null    int64 \n",
      " 15  Sum                       754 non-null    int64 \n",
      "dtypes: int64(15), object(1)\n",
      "memory usage: 94.4+ KB\n"
     ]
    }
   ],
   "source": [
    "dataset.info()"
   ]
  },
  {
   "cell_type": "code",
   "execution_count": 5,
   "id": "3d6081e6",
   "metadata": {},
   "outputs": [
    {
     "data": {
      "text/html": [
       "<div>\n",
       "<style scoped>\n",
       "    .dataframe tbody tr th:only-of-type {\n",
       "        vertical-align: middle;\n",
       "    }\n",
       "\n",
       "    .dataframe tbody tr th {\n",
       "        vertical-align: top;\n",
       "    }\n",
       "\n",
       "    .dataframe thead th {\n",
       "        text-align: right;\n",
       "    }\n",
       "</style>\n",
       "<table border=\"1\" class=\"dataframe\">\n",
       "  <thead>\n",
       "    <tr style=\"text-align: right;\">\n",
       "      <th></th>\n",
       "      <th>instituionname</th>\n",
       "      <th>survey_year</th>\n",
       "      <th>playground</th>\n",
       "      <th>auditorium</th>\n",
       "      <th>theatre</th>\n",
       "      <th>library</th>\n",
       "      <th>laboratory</th>\n",
       "      <th>conference_hall</th>\n",
       "      <th>health_center</th>\n",
       "      <th>gymnasium_fitness_center</th>\n",
       "      <th>indoor_stadium</th>\n",
       "      <th>common_room</th>\n",
       "      <th>computer_center</th>\n",
       "    </tr>\n",
       "  </thead>\n",
       "  <tbody>\n",
       "    <tr>\n",
       "      <th>0</th>\n",
       "      <td>Sido Kanhu Murmu University, Dumka</td>\n",
       "      <td>2015</td>\n",
       "      <td>0</td>\n",
       "      <td>0</td>\n",
       "      <td>0</td>\n",
       "      <td>1</td>\n",
       "      <td>1</td>\n",
       "      <td>0</td>\n",
       "      <td>1</td>\n",
       "      <td>0</td>\n",
       "      <td>0</td>\n",
       "      <td>0</td>\n",
       "      <td>0</td>\n",
       "    </tr>\n",
       "    <tr>\n",
       "      <th>1</th>\n",
       "      <td>KING GEORGE MEDICAL UNIVERSITY</td>\n",
       "      <td>2015</td>\n",
       "      <td>1</td>\n",
       "      <td>1</td>\n",
       "      <td>1</td>\n",
       "      <td>1</td>\n",
       "      <td>1</td>\n",
       "      <td>1</td>\n",
       "      <td>1</td>\n",
       "      <td>1</td>\n",
       "      <td>0</td>\n",
       "      <td>1</td>\n",
       "      <td>1</td>\n",
       "    </tr>\n",
       "    <tr>\n",
       "      <th>2</th>\n",
       "      <td>Burdwan University, Burdwan</td>\n",
       "      <td>2015</td>\n",
       "      <td>1</td>\n",
       "      <td>1</td>\n",
       "      <td>0</td>\n",
       "      <td>1</td>\n",
       "      <td>1</td>\n",
       "      <td>1</td>\n",
       "      <td>1</td>\n",
       "      <td>1</td>\n",
       "      <td>1</td>\n",
       "      <td>1</td>\n",
       "      <td>1</td>\n",
       "    </tr>\n",
       "    <tr>\n",
       "      <th>3</th>\n",
       "      <td>Marathwada Agricultural University, Parbhani</td>\n",
       "      <td>2015</td>\n",
       "      <td>1</td>\n",
       "      <td>1</td>\n",
       "      <td>0</td>\n",
       "      <td>1</td>\n",
       "      <td>1</td>\n",
       "      <td>1</td>\n",
       "      <td>1</td>\n",
       "      <td>1</td>\n",
       "      <td>1</td>\n",
       "      <td>1</td>\n",
       "      <td>1</td>\n",
       "    </tr>\n",
       "    <tr>\n",
       "      <th>4</th>\n",
       "      <td>Ch. Devi Lal University, Sirsa</td>\n",
       "      <td>2015</td>\n",
       "      <td>1</td>\n",
       "      <td>1</td>\n",
       "      <td>1</td>\n",
       "      <td>1</td>\n",
       "      <td>1</td>\n",
       "      <td>1</td>\n",
       "      <td>1</td>\n",
       "      <td>1</td>\n",
       "      <td>1</td>\n",
       "      <td>1</td>\n",
       "      <td>1</td>\n",
       "    </tr>\n",
       "  </tbody>\n",
       "</table>\n",
       "</div>"
      ],
      "text/plain": [
       "                                 instituionname  survey_year  playground  \\\n",
       "0            Sido Kanhu Murmu University, Dumka         2015           0   \n",
       "1                KING GEORGE MEDICAL UNIVERSITY         2015           1   \n",
       "2                   Burdwan University, Burdwan         2015           1   \n",
       "3  Marathwada Agricultural University, Parbhani         2015           1   \n",
       "4                Ch. Devi Lal University, Sirsa         2015           1   \n",
       "\n",
       "   auditorium  theatre  library  laboratory  conference_hall  health_center  \\\n",
       "0           0        0        1           1                0              1   \n",
       "1           1        1        1           1                1              1   \n",
       "2           1        0        1           1                1              1   \n",
       "3           1        0        1           1                1              1   \n",
       "4           1        1        1           1                1              1   \n",
       "\n",
       "   gymnasium_fitness_center  indoor_stadium  common_room  computer_center  \n",
       "0                         0               0            0                0  \n",
       "1                         1               0            1                1  \n",
       "2                         1               1            1                1  \n",
       "3                         1               1            1                1  \n",
       "4                         1               1            1                1  "
      ]
     },
     "execution_count": 5,
     "metadata": {},
     "output_type": "execute_result"
    }
   ],
   "source": [
    "X=dataset.iloc[:,1:14]\n",
    "X.head()"
   ]
  },
  {
   "cell_type": "code",
   "execution_count": 6,
   "id": "b4dd1cfb",
   "metadata": {},
   "outputs": [
    {
     "data": {
      "text/plain": [
       "array([[2015,    0,    0, ...,    0,    0,    0],\n",
       "       [2015,    1,    1, ...,    0,    0,    0],\n",
       "       [2015,    1,    1, ...,    0,    0,    0],\n",
       "       ...,\n",
       "       [2015,    0,    0, ...,    0,    0,    0],\n",
       "       [2015,    1,    1, ...,    0,    0,    0],\n",
       "       [2015,    1,    1, ...,    0,    0,    0]], dtype=int64)"
      ]
     },
     "execution_count": 6,
     "metadata": {},
     "output_type": "execute_result"
    }
   ],
   "source": [
    "X=pd.get_dummies(X)\n",
    "X=X.values\n",
    "X"
   ]
  },
  {
   "cell_type": "code",
   "execution_count": 7,
   "id": "d2969aa8",
   "metadata": {},
   "outputs": [
    {
     "data": {
      "text/plain": [
       "0       3\n",
       "1      11\n",
       "2      10\n",
       "3      11\n",
       "4      12\n",
       "       ..\n",
       "749    10\n",
       "750    11\n",
       "751     4\n",
       "752    12\n",
       "753    10\n",
       "Name: Sum, Length: 754, dtype: int64"
      ]
     },
     "execution_count": 7,
     "metadata": {},
     "output_type": "execute_result"
    }
   ],
   "source": [
    "Y=dataset.iloc[:,-1]\n",
    "Y"
   ]
  },
  {
   "cell_type": "code",
   "execution_count": 8,
   "id": "e148a680",
   "metadata": {},
   "outputs": [],
   "source": [
    "from sklearn.model_selection import train_test_split"
   ]
  },
  {
   "cell_type": "code",
   "execution_count": 9,
   "id": "362a2e99",
   "metadata": {},
   "outputs": [],
   "source": [
    "X_train,X_test,Y_train,Y_test=train_test_split(X,Y,)"
   ]
  },
  {
   "cell_type": "code",
   "execution_count": 10,
   "id": "7f260e31",
   "metadata": {},
   "outputs": [],
   "source": [
    "from sklearn.neighbors import KNeighborsClassifier"
   ]
  },
  {
   "cell_type": "code",
   "execution_count": 11,
   "id": "04773a5e",
   "metadata": {},
   "outputs": [],
   "source": [
    "KNN = KNeighborsClassifier()"
   ]
  },
  {
   "cell_type": "code",
   "execution_count": 12,
   "id": "f3a8ab8a",
   "metadata": {},
   "outputs": [
    {
     "data": {
      "text/plain": [
       "KNeighborsClassifier()"
      ]
     },
     "execution_count": 12,
     "metadata": {},
     "output_type": "execute_result"
    }
   ],
   "source": [
    "KNN.fit(X_train,Y_train)"
   ]
  },
  {
   "cell_type": "code",
   "execution_count": 13,
   "id": "1da8698c",
   "metadata": {},
   "outputs": [
    {
     "data": {
      "text/plain": [
       "666    11\n",
       "416    10\n",
       "198    12\n",
       "91     12\n",
       "271     9\n",
       "       ..\n",
       "252    11\n",
       "369    10\n",
       "234    11\n",
       "6      12\n",
       "712    10\n",
       "Name: Sum, Length: 189, dtype: int64"
      ]
     },
     "execution_count": 13,
     "metadata": {},
     "output_type": "execute_result"
    }
   ],
   "source": [
    "Y_predict=KNN.predict(X_test)\n",
    "Y_test"
   ]
  },
  {
   "cell_type": "code",
   "execution_count": 14,
   "id": "a1206286",
   "metadata": {},
   "outputs": [],
   "source": [
    "from sklearn.metrics import confusion_matrix, classification_report"
   ]
  },
  {
   "cell_type": "code",
   "execution_count": 15,
   "id": "17e41fe2",
   "metadata": {},
   "outputs": [
    {
     "name": "stdout",
     "output_type": "stream",
     "text": [
      "classification               precision    recall  f1-score   support\n",
      "\n",
      "           0       0.67      1.00      0.80         4\n",
      "           1       0.33      0.50      0.40         2\n",
      "           2       0.00      0.00      0.00         1\n",
      "           3       0.00      0.00      0.00         3\n",
      "           4       0.25      1.00      0.40         1\n",
      "           5       0.00      0.00      0.00         5\n",
      "           6       0.25      0.40      0.31         5\n",
      "           7       0.00      0.00      0.00        10\n",
      "           8       0.25      0.20      0.22         5\n",
      "           9       0.79      0.76      0.78        25\n",
      "          10       0.83      0.76      0.79        33\n",
      "          11       0.82      1.00      0.90        42\n",
      "          12       1.00      1.00      1.00        53\n",
      "\n",
      "    accuracy                           0.78       189\n",
      "   macro avg       0.40      0.51      0.43       189\n",
      "weighted avg       0.75      0.78      0.76       189\n",
      "\n"
     ]
    },
    {
     "name": "stderr",
     "output_type": "stream",
     "text": [
      "C:\\Users\\DEVIKA\\anaconda3\\lib\\site-packages\\sklearn\\metrics\\_classification.py:1248: UndefinedMetricWarning: Precision and F-score are ill-defined and being set to 0.0 in labels with no predicted samples. Use `zero_division` parameter to control this behavior.\n",
      "  _warn_prf(average, modifier, msg_start, len(result))\n",
      "C:\\Users\\DEVIKA\\anaconda3\\lib\\site-packages\\sklearn\\metrics\\_classification.py:1248: UndefinedMetricWarning: Precision and F-score are ill-defined and being set to 0.0 in labels with no predicted samples. Use `zero_division` parameter to control this behavior.\n",
      "  _warn_prf(average, modifier, msg_start, len(result))\n",
      "C:\\Users\\DEVIKA\\anaconda3\\lib\\site-packages\\sklearn\\metrics\\_classification.py:1248: UndefinedMetricWarning: Precision and F-score are ill-defined and being set to 0.0 in labels with no predicted samples. Use `zero_division` parameter to control this behavior.\n",
      "  _warn_prf(average, modifier, msg_start, len(result))\n"
     ]
    }
   ],
   "source": [
    "print('classification',classification_report(Y_test,Y_predict))"
   ]
  },
  {
   "cell_type": "code",
   "execution_count": null,
   "id": "ca1406aa",
   "metadata": {},
   "outputs": [],
   "source": []
  },
  {
   "cell_type": "code",
   "execution_count": null,
   "id": "5873d8b4",
   "metadata": {},
   "outputs": [],
   "source": []
  },
  {
   "cell_type": "code",
   "execution_count": null,
   "id": "5ca5896c",
   "metadata": {},
   "outputs": [],
   "source": []
  },
  {
   "cell_type": "code",
   "execution_count": null,
   "id": "a0b93cdc",
   "metadata": {},
   "outputs": [],
   "source": []
  },
  {
   "cell_type": "code",
   "execution_count": null,
   "id": "8ffbeb28",
   "metadata": {},
   "outputs": [],
   "source": []
  }
 ],
 "metadata": {
  "kernelspec": {
   "display_name": "Python 3 (ipykernel)",
   "language": "python",
   "name": "python3"
  },
  "language_info": {
   "codemirror_mode": {
    "name": "ipython",
    "version": 3
   },
   "file_extension": ".py",
   "mimetype": "text/x-python",
   "name": "python",
   "nbconvert_exporter": "python",
   "pygments_lexer": "ipython3",
   "version": "3.9.7"
  }
 },
 "nbformat": 4,
 "nbformat_minor": 5
}
